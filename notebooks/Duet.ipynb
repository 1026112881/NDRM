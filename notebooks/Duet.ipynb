{
 "cells": [
  {
   "cell_type": "markdown",
   "metadata": {},
   "source": [
    "# Duet\n",
    "\n",
    "Learning to Match Using Local and Distributed Representations of Text for Web Search\n",
    "\n",
    "https://arxiv.org/abs/1610.08136"
   ]
  },
  {
   "cell_type": "code",
   "execution_count": 5,
   "metadata": {
    "collapsed": false
   },
   "outputs": [],
   "source": [
    "from __future__ import print_function\n",
    "import sys\n",
    "import os\n",
    "import numpy as np\n",
    "import cntk as C\n",
    "from cntk import Trainer, learning_rate_schedule, UnitType\n",
    "from cntk.learner import sgd\n",
    "from cntk.layers import Dense\n",
    "from cntk.models import Sequential\n",
    "from cntk.utils import ProgressPrinter\n",
    "from cntk.ops import *\n",
    "from cntk.device import set_default_device, cpu\n",
    "\n",
    "set_default_device(cpu())"
   ]
  }
 ],
 "metadata": {
  "anaconda-cloud": {},
  "kernelspec": {
   "display_name": "Python [cntk-py34]",
   "language": "python",
   "name": "Python [cntk-py34]"
  },
  "language_info": {
   "codemirror_mode": {
    "name": "ipython",
    "version": 3
   },
   "file_extension": ".py",
   "mimetype": "text/x-python",
   "name": "python",
   "nbconvert_exporter": "python",
   "pygments_lexer": "ipython3",
   "version": "3.4.4"
  }
 },
 "nbformat": 4,
 "nbformat_minor": 0
}
